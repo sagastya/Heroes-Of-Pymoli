{
 "cells": [
  {
   "cell_type": "code",
   "execution_count": 112,
   "metadata": {},
   "outputs": [
    {
     "data": {
      "text/html": [
       "<div>\n",
       "<style scoped>\n",
       "    .dataframe tbody tr th:only-of-type {\n",
       "        vertical-align: middle;\n",
       "    }\n",
       "\n",
       "    .dataframe tbody tr th {\n",
       "        vertical-align: top;\n",
       "    }\n",
       "\n",
       "    .dataframe thead th {\n",
       "        text-align: right;\n",
       "    }\n",
       "</style>\n",
       "<table border=\"1\" class=\"dataframe\">\n",
       "  <thead>\n",
       "    <tr style=\"text-align: right;\">\n",
       "      <th></th>\n",
       "      <th>Total Players</th>\n",
       "    </tr>\n",
       "  </thead>\n",
       "  <tbody>\n",
       "    <tr>\n",
       "      <td>0</td>\n",
       "      <td>576</td>\n",
       "    </tr>\n",
       "  </tbody>\n",
       "</table>\n",
       "</div>"
      ],
      "text/plain": [
       "   Total Players\n",
       "0            576"
      ]
     },
     "execution_count": 112,
     "metadata": {},
     "output_type": "execute_result"
    }
   ],
   "source": [
    "# Dependencies\n",
    "import pandas as pd\n",
    "import numpy as np\n",
    "\n",
    "# File to Load (Remember to Change These)\n",
    "file_to_load = \"Resources/purchase_data.csv\"\n",
    "\n",
    "# Read Purchasing File and store into Pandas data frame\n",
    "purchase_data = pd.read_csv(file_to_load)\n",
    "\n",
    "#purchase_data.head()\n",
    "#purchase_data.info()\n",
    "\n",
    "# Player Count\n",
    "#\n",
    "# Calculate the number of unique players\n",
    "players_count = len(purchase_data[\"SN\"].unique())\n",
    "\n",
    "# Create a dataframe to display the number of unique players\n",
    "summary_players_table = pd.DataFrame({\"Total Players\": [players_count]})\n",
    "summary_players_table"
   ]
  },
  {
   "cell_type": "code",
   "execution_count": 25,
   "metadata": {},
   "outputs": [
    {
     "data": {
      "text/html": [
       "<div>\n",
       "<style scoped>\n",
       "    .dataframe tbody tr th:only-of-type {\n",
       "        vertical-align: middle;\n",
       "    }\n",
       "\n",
       "    .dataframe tbody tr th {\n",
       "        vertical-align: top;\n",
       "    }\n",
       "\n",
       "    .dataframe thead th {\n",
       "        text-align: right;\n",
       "    }\n",
       "</style>\n",
       "<table border=\"1\" class=\"dataframe\">\n",
       "  <thead>\n",
       "    <tr style=\"text-align: right;\">\n",
       "      <th></th>\n",
       "      <th>Number of Unique Items</th>\n",
       "      <th>Average Price</th>\n",
       "      <th>Number of Purchases</th>\n",
       "      <th>Total Revenue</th>\n",
       "    </tr>\n",
       "  </thead>\n",
       "  <tbody>\n",
       "    <tr>\n",
       "      <td>0</td>\n",
       "      <td>183</td>\n",
       "      <td>3.05</td>\n",
       "      <td>780</td>\n",
       "      <td>2379.77</td>\n",
       "    </tr>\n",
       "  </tbody>\n",
       "</table>\n",
       "</div>"
      ],
      "text/plain": [
       "   Number of Unique Items  Average Price  Number of Purchases  Total Revenue\n",
       "0                     183           3.05                  780        2379.77"
      ]
     },
     "execution_count": 25,
     "metadata": {},
     "output_type": "execute_result"
    }
   ],
   "source": [
    "# Purchasing Analysis (Total)\n",
    "#\n",
    "# Calculate the number of unique purchase items\n",
    "unique_items = len(purchase_data[\"Item ID\"].unique())\n",
    "\n",
    "# Calculate the average price of items\n",
    "avg_price = round(purchase_data[\"Price\"].mean(),2)\n",
    "\n",
    "# Calculate the total number of purchases made\n",
    "num_purchases = len(purchase_data)\n",
    "\n",
    "# Calculate the total revenue generated\n",
    "total_rev = purchase_data[\"Price\"].sum()\n",
    "\n",
    "# Create a dataframe to display Purchasing Analysis Total\n",
    "summary_analysis_table = pd.DataFrame({\"Number of Unique Items\":[unique_items],\n",
    "                                     \"Average Price\": [avg_price],\n",
    "                                     \"Number of Purchases\": [num_purchases],\n",
    "                                     \"Total Revenue\": [total_rev]})\n",
    "summary_analysis_table"
   ]
  },
  {
   "cell_type": "code",
   "execution_count": 137,
   "metadata": {},
   "outputs": [
    {
     "data": {
      "text/html": [
       "<div>\n",
       "<style scoped>\n",
       "    .dataframe tbody tr th:only-of-type {\n",
       "        vertical-align: middle;\n",
       "    }\n",
       "\n",
       "    .dataframe tbody tr th {\n",
       "        vertical-align: top;\n",
       "    }\n",
       "\n",
       "    .dataframe thead th {\n",
       "        text-align: right;\n",
       "    }\n",
       "</style>\n",
       "<table border=\"1\" class=\"dataframe\">\n",
       "  <thead>\n",
       "    <tr style=\"text-align: right;\">\n",
       "      <th></th>\n",
       "      <th></th>\n",
       "      <th>Total Count</th>\n",
       "      <th>Percentage of Players</th>\n",
       "    </tr>\n",
       "  </thead>\n",
       "  <tbody>\n",
       "    <tr>\n",
       "      <td>0</td>\n",
       "      <td>Male</td>\n",
       "      <td>484</td>\n",
       "      <td>84.03</td>\n",
       "    </tr>\n",
       "    <tr>\n",
       "      <td>1</td>\n",
       "      <td>Female</td>\n",
       "      <td>81</td>\n",
       "      <td>14.06</td>\n",
       "    </tr>\n",
       "    <tr>\n",
       "      <td>2</td>\n",
       "      <td>Other/Non-Disclosed</td>\n",
       "      <td>11</td>\n",
       "      <td>1.91</td>\n",
       "    </tr>\n",
       "  </tbody>\n",
       "</table>\n",
       "</div>"
      ],
      "text/plain": [
       "                        Total Count  Percentage of Players\n",
       "0                 Male          484                  84.03\n",
       "1               Female           81                  14.06\n",
       "2  Other/Non-Disclosed           11                   1.91"
      ]
     },
     "execution_count": 137,
     "metadata": {},
     "output_type": "execute_result"
    }
   ],
   "source": [
    "# Gender demographics\n",
    "#\n",
    "# Calculate Male count and percentage\n",
    "male_data = purchase_data.loc[purchase_data[\"Gender\"] == \"Male\",:]\n",
    "new_male_data = male_data.groupby(\"SN\")\n",
    "male_count = len(new_male_data)\n",
    "male_perc = round(male_count/players_count * 100,2)\n",
    "# Calculate Female count and percentage\n",
    "female_data = purchase_data.loc[purchase_data[\"Gender\"] == \"Female\",:]\n",
    "new_female_data = female_data.groupby(\"SN\")\n",
    "female_count = len(new_female_data)\n",
    "female_perc = round(female_count/players_count * 100,2)\n",
    "# Calculate other/undisclosed count and percentage\n",
    "other_data = purchase_data.loc[purchase_data[\"Gender\"] == \"Other / Non-Disclosed\",:]\n",
    "new_other_data = other_data.groupby(\"SN\")\n",
    "other_count = len(new_other_data)\n",
    "other_perc = round(other_count/players_count * 100,2)\n",
    "# Create a dataframe to display Gender Demographics\n",
    "summary_gender_table = pd.DataFrame({\" \": [\"Male\", \"Female\", \"Other/Non-Disclosed\"],\n",
    "                                     \"Total Count\": [male_count, female_count, other_count],\n",
    "                                     \"Percentage of Players\": [male_perc, female_perc, other_perc]})\n",
    "summary_gender_table\n"
   ]
  },
  {
   "cell_type": "code",
   "execution_count": 161,
   "metadata": {},
   "outputs": [],
   "source": [
    "# Purchasing Analysis (Gender)\n",
    "#\n",
    "# Calculate purchase count, avg purchase price, total purchase value, avg total purchase per person for Females\n",
    "female_purch_count = len(female_data)\n",
    "female_avg_price = round(female_data[\"Price\"].mean(), 2)\n",
    "female_total_val = female_data[\"Price\"].sum()\n",
    "\n",
    "#print(female_avg_val)\n",
    "# Calculate purchase count, avg purchase price, total purchase value, avg total purchase per person for Males\n",
    "male_purch_count = len(male_data)\n",
    "male_avg_price = round(male_data[\"Price\"].mean(), 2)\n",
    "male_total_val = male_data[\"Price\"].sum()\n",
    "\n",
    "#print(male_avg_val)\n",
    "# Calculate purchase count, avg purchase price, total purchase value, avg total purchase per person for Others\n",
    "other_purch_count = len(other_data)\n",
    "other_avg_price = round(other_data[\"Price\"].mean(), 2)\n",
    "other_total_val = other_data[\"Price\"].sum()\n",
    "\n",
    "#print(other_avg_val)"
   ]
  },
  {
   "cell_type": "code",
   "execution_count": null,
   "metadata": {},
   "outputs": [],
   "source": []
  }
 ],
 "metadata": {
  "kernelspec": {
   "display_name": "Python 3",
   "language": "python",
   "name": "python3"
  },
  "language_info": {
   "codemirror_mode": {
    "name": "ipython",
    "version": 3
   },
   "file_extension": ".py",
   "mimetype": "text/x-python",
   "name": "python",
   "nbconvert_exporter": "python",
   "pygments_lexer": "ipython3",
   "version": "3.7.4"
  }
 },
 "nbformat": 4,
 "nbformat_minor": 4
}
