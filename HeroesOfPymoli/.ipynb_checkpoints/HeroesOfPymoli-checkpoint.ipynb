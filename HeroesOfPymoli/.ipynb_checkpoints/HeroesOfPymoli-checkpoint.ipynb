{
 "cells": [
  {
   "cell_type": "code",
   "execution_count": 274,
   "metadata": {},
   "outputs": [
    {
     "data": {
      "text/html": [
       "<div>\n",
       "<style scoped>\n",
       "    .dataframe tbody tr th:only-of-type {\n",
       "        vertical-align: middle;\n",
       "    }\n",
       "\n",
       "    .dataframe tbody tr th {\n",
       "        vertical-align: top;\n",
       "    }\n",
       "\n",
       "    .dataframe thead th {\n",
       "        text-align: right;\n",
       "    }\n",
       "</style>\n",
       "<table border=\"1\" class=\"dataframe\">\n",
       "  <thead>\n",
       "    <tr style=\"text-align: right;\">\n",
       "      <th></th>\n",
       "      <th>Number of Unique Items</th>\n",
       "      <th>Average Price</th>\n",
       "      <th>Number of Purchases</th>\n",
       "      <th>Total Revenue</th>\n",
       "    </tr>\n",
       "  </thead>\n",
       "  <tbody>\n",
       "    <tr>\n",
       "      <td>0</td>\n",
       "      <td>183</td>\n",
       "      <td>3.05</td>\n",
       "      <td>780</td>\n",
       "      <td>2379.77</td>\n",
       "    </tr>\n",
       "  </tbody>\n",
       "</table>\n",
       "</div>"
      ],
      "text/plain": [
       "   Number of Unique Items  Average Price  Number of Purchases  Total Revenue\n",
       "0                     183           3.05                  780        2379.77"
      ]
     },
     "execution_count": 274,
     "metadata": {},
     "output_type": "execute_result"
    }
   ],
   "source": [
    "# Dependencies\n",
    "import pandas as pd\n",
    "import numpy as np\n",
    "\n",
    "# File to Load (Remember to Change These)\n",
    "file_to_load = \"Resources/purchase_data.csv\"\n",
    "\n",
    "# Read Purchasing File and store into Pandas data frame\n",
    "purchase_data = pd.read_csv(file_to_load)\n",
    "\n",
    "#purchase_data.head()\n",
    "#purchase_data.info()\n",
    "\n",
    "# Calculate the number of unique players\n",
    "#players_count = len(purchase_data[\"SN\"].unique())\n",
    "unique_players = purchase_data[\"SN\"].unique()\n",
    "players_count = len(unique_players)\n",
    "# Create a dataframe to display the number of unique players\n",
    "total_players_table = pd.DataFrame({\"Total Players\": [players_count]})\n",
    "total_players_table\n",
    "\n",
    "# Calculate the number of unique purchase items\n",
    "unique_items = len(purchase_data[\"Item ID\"].unique())\n",
    "\n",
    "# Calculate the average price of items\n",
    "avg_price = round(purchase_data[\"Price\"].mean(),2)\n",
    "\n",
    "# Calculate the total number of purchases made\n",
    "num_purchases = len(purchase_data)\n",
    "\n",
    "# Calculate the total revenue generated\n",
    "total_rev = purchase_data[\"Price\"].sum()\n",
    "\n",
    "# Create a dataframe to display Purchasing Analysis Total\n",
    "total_analysis_table = pd.DataFrame({\"Number of Unique Items\":[unique_items],\n",
    "                                     \"Average Price\": [avg_price],\n",
    "                                     \"Number of Purchases\": [num_purchases],\n",
    "                                     \"Total Revenue\": [total_rev]})\n",
    "total_analysis_table"
   ]
  },
  {
   "cell_type": "code",
   "execution_count": 273,
   "metadata": {},
   "outputs": [
    {
     "data": {
      "text/plain": [
       "Gender\n",
       "Female                    81\n",
       "Male                     484\n",
       "Other / Non-Disclosed     11\n",
       "Name: Gender, dtype: int64"
      ]
     },
     "execution_count": 273,
     "metadata": {},
     "output_type": "execute_result"
    }
   ],
   "source": [
    "# Calculate gender demographics\n",
    "gender_data = purchase_data.filter([\"SN\", \"Gender\"])                             \n",
    "gender_data = gender_data.groupby(\"SN\")\n",
    "gender_data = gender_data[\"Gender\"].value_counts()\n",
    "gender_data = \n"
   ]
  },
  {
   "cell_type": "code",
   "execution_count": null,
   "metadata": {},
   "outputs": [],
   "source": []
  }
 ],
 "metadata": {
  "kernelspec": {
   "display_name": "Python 3",
   "language": "python",
   "name": "python3"
  },
  "language_info": {
   "codemirror_mode": {
    "name": "ipython",
    "version": 3
   },
   "file_extension": ".py",
   "mimetype": "text/x-python",
   "name": "python",
   "nbconvert_exporter": "python",
   "pygments_lexer": "ipython3",
   "version": "3.7.4"
  }
 },
 "nbformat": 4,
 "nbformat_minor": 4
}
